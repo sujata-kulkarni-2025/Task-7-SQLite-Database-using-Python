{
  "nbformat": 4,
  "nbformat_minor": 0,
  "metadata": {
    "colab": {
      "provenance": []
    },
    "kernelspec": {
      "name": "python3",
      "display_name": "Python 3"
    },
    "language_info": {
      "name": "python"
    }
  },
  "cells": [
    {
      "cell_type": "code",
      "execution_count": 1,
      "metadata": {
        "id": "NqdAOsZDXRPG"
      },
      "outputs": [],
      "source": [
        "import sqlite3\n",
        "import pandas as pd\n",
        "import matplotlib.pyplot as plt"
      ]
    },
    {
      "cell_type": "code",
      "source": [
        "# Connect to the database\n",
        "conn = sqlite3.connect('sales_data.db')"
      ],
      "metadata": {
        "id": "RUuVOwbKXg9J"
      },
      "execution_count": 2,
      "outputs": []
    },
    {
      "cell_type": "code",
      "source": [
        "# Create database\n",
        "conn = sqlite3.connect('sales_data.db')\n",
        "cursor = conn.cursor()"
      ],
      "metadata": {
        "id": "kO4UVlUIXjJh"
      },
      "execution_count": 3,
      "outputs": []
    },
    {
      "cell_type": "code",
      "source": [
        "# Create table\n",
        "cursor.execute('''\n",
        "CREATE TABLE sales (\n",
        "    id INTEGER PRIMARY KEY,\n",
        "    product TEXT,\n",
        "    quantity INTEGER,\n",
        "    price REAL\n",
        ")\n",
        "''')"
      ],
      "metadata": {
        "colab": {
          "base_uri": "https://localhost:8080/"
        },
        "id": "TFv_XtkCXqnh",
        "outputId": "7b48dfc1-a0de-43cd-b98f-a5fbe4e6911d"
      },
      "execution_count": 4,
      "outputs": [
        {
          "output_type": "execute_result",
          "data": {
            "text/plain": [
              "<sqlite3.Cursor at 0x792732c8b340>"
            ]
          },
          "metadata": {},
          "execution_count": 4
        }
      ]
    },
    {
      "cell_type": "code",
      "source": [
        "# Insert sample data\n",
        "sales_data = [\n",
        "    ('iPhone', 10, 999),\n",
        "    ('Samsung', 15, 799),\n",
        "    ('Google Pixel', 7, 699),\n",
        "    ('OnePlus', 12, 499),\n",
        "    ('Xiaomi', 20, 399),\n",
        "]"
      ],
      "metadata": {
        "id": "PAahXiDaXuWI"
      },
      "execution_count": 5,
      "outputs": []
    },
    {
      "cell_type": "code",
      "source": [
        "cursor.executemany('INSERT INTO sales (product, quantity, price) VALUES (?, ?, ?)', sales_data)\n",
        "\n",
        "conn.commit()\n",
        "conn.close()\n",
        "\n",
        "print(\"Database created with sample data!\")"
      ],
      "metadata": {
        "colab": {
          "base_uri": "https://localhost:8080/"
        },
        "id": "xwKKcTQ1XxNw",
        "outputId": "343bd5bc-65ec-44ac-f50c-1e171f821161"
      },
      "execution_count": 6,
      "outputs": [
        {
          "output_type": "stream",
          "name": "stdout",
          "text": [
            "Database created with sample data!\n"
          ]
        }
      ]
    },
    {
      "cell_type": "code",
      "source": [
        "import sqlite3\n",
        "import pandas as pd\n",
        "import matplotlib.pyplot as plt"
      ],
      "metadata": {
        "id": "rbAgVUGgX1pL"
      },
      "execution_count": 7,
      "outputs": []
    },
    {
      "cell_type": "code",
      "source": [
        "# Connect to the database\n",
        "conn = sqlite3.connect('sales_data.db')"
      ],
      "metadata": {
        "id": "vUZW5TdwX5EI"
      },
      "execution_count": 8,
      "outputs": []
    },
    {
      "cell_type": "code",
      "source": [
        "# Run SQL Query\n",
        "query = \"\"\"\n",
        "SELECT product,\n",
        "       SUM(quantity) AS total_qty,\n",
        "       SUM(quantity * price) AS revenue\n",
        "FROM sales\n",
        "GROUP BY product\n",
        "\"\"\""
      ],
      "metadata": {
        "id": "7hEr1FpKX7A4"
      },
      "execution_count": 9,
      "outputs": []
    },
    {
      "cell_type": "code",
      "source": [
        "# Load results into pandas DataFrame\n",
        "df = pd.read_sql_query(query, conn)\n",
        "\n",
        "# Display the DataFrame\n",
        "print(\"Sales Summary:\")\n",
        "print(df)"
      ],
      "metadata": {
        "colab": {
          "base_uri": "https://localhost:8080/"
        },
        "id": "JxF1u8tJX9ro",
        "outputId": "f6a5f921-2ed6-4302-8106-5c6429d6d565"
      },
      "execution_count": 10,
      "outputs": [
        {
          "output_type": "stream",
          "name": "stdout",
          "text": [
            "Sales Summary:\n",
            "        product  total_qty  revenue\n",
            "0  Google Pixel          7   4893.0\n",
            "1       OnePlus         12   5988.0\n",
            "2       Samsung         15  11985.0\n",
            "3        Xiaomi         20   7980.0\n",
            "4        iPhone         10   9990.0\n"
          ]
        }
      ]
    },
    {
      "cell_type": "code",
      "source": [
        "# Plot bar chart of revenue by product\n",
        "plt.figure(figsize=(8, 5))\n",
        "df.plot(kind='bar', x='product', y='revenue', color='purple', legend=False)\n",
        "plt.title('Revenue by Product')\n",
        "plt.xlabel('Product')\n",
        "plt.ylabel('Revenue ($)')\n",
        "plt.tight_layout()\n",
        "plt.savefig('sales_chart.png')  # Save chart as PNG\n",
        "plt.show()\n",
        "\n",
        "# Close the connection\n",
        "conn.close()"
      ],
      "metadata": {
        "colab": {
          "base_uri": "https://localhost:8080/",
          "height": 504
        },
        "id": "WqggzgdzYAcQ",
        "outputId": "810c8c50-fa1e-4bef-c7c6-26a8c1c550aa"
      },
      "execution_count": 12,
      "outputs": [
        {
          "output_type": "display_data",
          "data": {
            "text/plain": [
              "<Figure size 800x500 with 0 Axes>"
            ]
          },
          "metadata": {}
        },
        {
          "output_type": "display_data",
          "data": {
            "text/plain": [
              "<Figure size 640x480 with 1 Axes>"
            ],
            "image/png": "[encoded data removed]"
          },
          "metadata": {}
        }
      ]
    }
  ]
}